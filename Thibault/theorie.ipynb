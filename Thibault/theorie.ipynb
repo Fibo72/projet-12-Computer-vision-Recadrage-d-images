{
 "cells": [
  {
   "attachments": {},
   "cell_type": "markdown",
   "metadata": {},
   "source": [
    "# théorie pour recadrer l'image"
   ]
  },
  {
   "attachments": {},
   "cell_type": "markdown",
   "metadata": {},
   "source": [
    "## partie maths\n",
    "\n",
    "### contexte\n",
    "\n",
    "Dans notre problème, on considère trois point fixe $ \\text{p}_1, \\text{p}_2, \\text{p}_3 \\in \\mathbb{R}^3 $ du relevé topo.\n",
    "\n",
    "Aprés évolution, ces points fixes ont de nouvelles coordonées $ \\text{p}_1', \\text{p}_2', \\text{p}_3' \\in \\mathbb{R}^3 $.On cherche à calculer la transformation correspondante pour l'appliquer aux autres points.\n",
    "\n",
    "on a une relation de la forme :\n",
    "\n",
    " $ \\text{p}_i' = R\\text{p}_i + T $ avec $ \\text{i} \\in \\{ 1, 2,3\\} $ (1)\n",
    "\n",
    "\n",
    "avec:\n",
    "  \n",
    "* $ R \\in \\text{SO3}(\\mathbb{R}) $ \n",
    "   matrice des rotation.\n",
    "\n",
    "* $ \\text{T} \\in \\mathbb{R}$ vecteur translation.\n",
    "\n",
    "### matrice de transformation rigide\n",
    "\n",
    "on met ce système sous la forme:\n",
    "\n",
    "$$\n",
    "\\left (\n",
    "\\begin{array}{c|c}\n",
    "\\begin{array}{c c c} \\\\ R \\\\ \\\\ \\end{array}\n",
    "&\n",
    "\\begin{array}{c} \\\\T \\\\ \\\\ \\end{array}\n",
    "\\\\ \\hline\n",
    "\\begin{array}{ ccc} \\\\ 0 \\\\ \\\\ \\end{array}\n",
    "&\n",
    "\\begin{array}{c} 1 \\\\\\end{array}\n",
    "\\end{array}\n",
    "\\right )\n",
    "\n",
    "\\left (\n",
    "\\begin{array}{c|c|c}\n",
    "\\begin{array}{c} \\\\   \\text{p}_1\\\\ \\\\ \\end{array}\n",
    "&\n",
    "\\begin{array}{c} \\\\  \\text{p}_2 \\\\ \\\\ \\end{array}\n",
    "&\n",
    "\\begin{array}{c} \\\\   \\text{p}_3 \\\\ \\\\ \\end{array}\n",
    "\\\\ \\hline\n",
    "\\begin{array}{c} 1 \\\\ \\end{array}\n",
    "&\n",
    "\\begin{array}{c} 1 \\\\ \\end{array}\n",
    "&\n",
    "\\begin{array}{c} 1 \\\\ \\end{array}\n",
    "\\end{array}\n",
    "\\right )\n",
    "\n",
    "=\n",
    "\n",
    "\\left (\n",
    "\\begin{array}{c|c|c}\n",
    "\\begin{array}{c} \\\\   \\text{p}_1'\\\\ \\\\ \\end{array}\n",
    "&\n",
    "\\begin{array}{c} \\\\  \\text{p}_2' \\\\ \\\\ \\end{array}\n",
    "&\n",
    "\\begin{array}{c} \\\\   \\text{p}_3' \\\\ \\\\ \\end{array}\n",
    "\\\\ \\hline\n",
    "\\begin{array}{c} 1 \\\\ \\end{array}\n",
    "&\n",
    "\\begin{array}{c} 1 \\\\ \\end{array}\n",
    "&\n",
    "\\begin{array}{c} 1 \\\\ \\end{array}\n",
    "\\end{array}\n",
    "\\right )\n",
    "\n",
    "$$\n",
    "\n",
    "il reste à determiner R et T par un pivot de gauss\n",
    "\n"
   ]
  },
  {
   "attachments": {},
   "cell_type": "markdown",
   "metadata": {},
   "source": [
    "## partie code"
   ]
  },
  {
   "cell_type": "code",
   "execution_count": 8,
   "metadata": {},
   "outputs": [
    {
     "data": {
      "text/plain": [
       "array([[ -1.24294118,   3.95588235, -11.47      ],\n",
       "       [  0.03764706,  -1.23529412,   4.16      ],\n",
       "       [  1.3       ,   0.5       ,   2.9       ]])"
      ]
     },
     "execution_count": 8,
     "metadata": {},
     "output_type": "execute_result"
    }
   ],
   "source": [
    "import numpy as np\n",
    "\n",
    "# variables de test\n",
    "\n",
    "p1 = np.random.randint(0, 50, 3)\n",
    "p2 = np.random.randint(0, 50, 3)\n",
    "p3 = np.random.randint(0, 50, 3)\n",
    "\n",
    "p1p = np.random.randint(0, 50, 3)\n",
    "p2p = np.random.randint(0, 50, 3)\n",
    "p3p = np.random.randint(0, 50, 3)\n",
    "\n",
    "def T_rigide(p1, p2, p3, p1p, p2p, p3p):\n",
    "    \"\"\"fonction qui prend les vecteurs fixes et retourne la matrice de rotation \"\"\"\n",
    "\n",
    "    P = np.concatenate((p1.reshape((3, 1)), p2.reshape((3, 1)), p3.reshape((3, 1))), axis = 1)\n",
    "\n",
    "    PP = np.concatenate((p1p.reshape((3, 1)), p2p.reshape((3, 1)), p3p.reshape((3, 1))), axis =1 )\n",
    "\n",
    "    R = np.linalg.solve(P, PP)\n",
    "\n",
    "    return R\n",
    "\n",
    "\n",
    "T = T_rigide(p1, p2, p3, p1p, p2p, p3p)\n",
    "\n",
    "print(T)\n",
    "\n"
   ]
  },
  {
   "cell_type": "code",
   "execution_count": null,
   "metadata": {},
   "outputs": [],
   "source": []
  }
 ],
 "metadata": {
  "kernelspec": {
   "display_name": "base",
   "language": "python",
   "name": "python3"
  },
  "language_info": {
   "codemirror_mode": {
    "name": "ipython",
    "version": 3
   },
   "file_extension": ".py",
   "mimetype": "text/x-python",
   "name": "python",
   "nbconvert_exporter": "python",
   "pygments_lexer": "ipython3",
   "version": "3.9.12"
  },
  "orig_nbformat": 4
 },
 "nbformat": 4,
 "nbformat_minor": 2
}
